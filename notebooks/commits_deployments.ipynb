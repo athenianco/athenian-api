{
 "cells": [
  {
   "cell_type": "code",
   "execution_count": 1,
   "id": "796151a4",
   "metadata": {},
   "outputs": [],
   "source": [
    "import requests\n",
    "from yfiles_jupyter_graphs import GraphWidget\n",
    "import webcolors\n",
    "from colormath.color_objects import sRGBColor, LabColor\n",
    "from colormath.color_conversions import convert_color\n",
    "\n",
    "# pip install requests webcolors colormath yfiles_jupyter_graphs jupyter_nbextensions_configurator"
   ]
  },
  {
   "cell_type": "code",
   "execution_count": 5,
   "id": "f8881bd7",
   "metadata": {},
   "outputs": [],
   "source": [
    "response = requests.post(\"http://0.0.0.0:8081/v1/filter/commits\", json={\n",
    "    \"account\": ???,\n",
    "    \"date_from\": \"2022-08-01\",\n",
    "    \"date_to\": \"2022-09-01\",\n",
    "    \"in\": [\"github.com/???\"],\n",
    "    \"property\": \"everything\",\n",
    "}, headers={\"Authorization\": \"Bearer ...\"})"
   ]
  },
  {
   "cell_type": "code",
   "execution_count": 6,
   "id": "7f4851f0",
   "metadata": {},
   "outputs": [
    {
     "data": {
      "text/plain": [
       "True"
      ]
     },
     "execution_count": 6,
     "metadata": {},
     "output_type": "execute_result"
    }
   ],
   "source": [
    "response.ok"
   ]
  },
  {
   "cell_type": "code",
   "execution_count": 9,
   "id": "4bdb666f",
   "metadata": {},
   "outputs": [],
   "source": [
    "commits = response.json()"
   ]
  },
  {
   "cell_type": "code",
   "execution_count": 13,
   "id": "98f1a1c1",
   "metadata": {},
   "outputs": [],
   "source": [
    "commits, include = commits[\"data\"], commits[\"include\"]"
   ]
  },
  {
   "cell_type": "code",
   "execution_count": 156,
   "id": "ea4ac6da",
   "metadata": {},
   "outputs": [
    {
     "name": "stdout",
     "output_type": "stream",
     "text": [
      "nodes: 2765 edges: 3431\n"
     ]
    }
   ],
   "source": [
    "w = GraphWidget()\n",
    "w.nodes = [{\n",
    "    \"id\": c[\"hash\"],\n",
    "    \"properties\": {\n",
    "        \"deployments\": c.get(\"deployments\", []),\n",
    "        \"timestamp\": c[\"committer\"][\"timestamp\"],\n",
    "        \"label\": c[\"hash\"],\n",
    "    },\n",
    "    \"color\": \"blue\",\n",
    "} for c in commits]\n",
    "w.edges = [{\n",
    "    \"start\": c[\"hash\"],\n",
    "    \"end\": child,\n",
    "} for c in commits for child in (c[\"children\"] or [])]\n",
    "w.set_sidebar(start_with=\"Search\")\n",
    "w.hierarchic_layout()\n",
    "print(\"nodes:\", len(w.nodes), \"edges:\", len(w.edges))\n",
    "\n",
    "dag = {}\n",
    "for c in commits:\n",
    "    dag[c[\"hash\"]] = c[\"children\"] or []"
   ]
  },
  {
   "cell_type": "code",
   "execution_count": 165,
   "id": "3b222a22",
   "metadata": {},
   "outputs": [],
   "source": [
    "node_color_mappers = []\n",
    "\n",
    "\n",
    "def normalize_to_rgb(c: str) -> webcolors.IntegerRGB:\n",
    "    try:\n",
    "        return webcolors.name_to_rgb(c)\n",
    "    except ValueError:\n",
    "        try:\n",
    "            return webcolors.hex_to_rgb(c)\n",
    "        except ValueError:\n",
    "            assert c.startswith(\"rgb\")\n",
    "            return webcolors.IntegerRGB(*(int(p) for p in c.strip(\"rgba()\").replace(\" \", \"\").split(\",\")[:3]))\n",
    "\n",
    "\n",
    "def average_color(*colors) -> str:\n",
    "    if len(colors) == 1:\n",
    "        return colors[0]\n",
    "    colors = [convert_color(sRGBColor(*normalize_to_rgb(c), is_upscaled=True), LabColor) for c in colors]\n",
    "    lab_l = sum(c.lab_l for c in colors) / len(colors)\n",
    "    lab_a = sum(c.lab_a for c in colors) / len(colors)\n",
    "    lab_b = sum(c.lab_b for c in colors) / len(colors)\n",
    "    avg = convert_color(LabColor(lab_l, lab_a, lab_b), sRGBColor)\n",
    "    return f\"rgb({int(avg.rgb_r * 255)}, {int(avg.rgb_g * 255)}, {int(avg.rgb_b * 255)})\"\n",
    "\n",
    "\n",
    "def map_node_style(index: int, node: dict) -> str:\n",
    "    colors = [c for mapper in node_color_mappers if (c := mapper(index, node)) is not None]\n",
    "    if not colors:\n",
    "        colors = [w.default_node_color_mapping(index, node)]\n",
    "    return {\n",
    "        \"color\": average_color(*colors),\n",
    "        \"shape\": \"round-rectangle\",\n",
    "    }\n",
    "\n",
    "w.set_node_styles_mapping(map_node_style)\n",
    "\n",
    "def highlight_deployment(name: str, color: str):\n",
    "    def mapper(index, node):\n",
    "        return color if name in node[\"properties\"][\"deployments\"] else None\n",
    "    node_color_mappers.append(mapper)\n",
    "\n",
    "\n",
    "edge_color_mappers = []\n",
    "edge_thickness_mappers = []\n",
    "\n",
    "\n",
    "def map_edge_color(index: int, edge: dict) -> str:\n",
    "    colors = [c for mapper in edge_color_mappers if (c := mapper(index, edge)) is not None]\n",
    "    if not colors:\n",
    "        colors = [w.default_edge_color_mapping(index, edge)]\n",
    "    return average_color(*colors)\n",
    "\n",
    "\n",
    "def map_edge_thickness(index: int, edge: dict) -> float:\n",
    "    factors = [mapper(index, edge) for mapper in edge_thickness_mappers]\n",
    "    if not factors:\n",
    "        factors = [1.0]\n",
    "    val = 1.0\n",
    "    for f in factors:\n",
    "        val *= f\n",
    "    return val\n",
    "\n",
    "\n",
    "w.set_edge_color_mapping(map_edge_color)\n",
    "w.set_edge_thickness_factor_mapping(map_edge_thickness)\n",
    "\n",
    "\n",
    "def highlight_path(node1: str, node2: str, color: str) -> tuple[str, str]:\n",
    "    # we don't know the direction\n",
    "    for node_from, node_to in ((node1, node2), (node2, node1)):\n",
    "        visited = {}\n",
    "        boilerplate = [(node_from, None)]\n",
    "        while boilerplate:\n",
    "            head, origin = boilerplate.pop(-1)\n",
    "            if head in visited:\n",
    "                continue\n",
    "            visited[head] = origin\n",
    "            if head == node_to:\n",
    "                break\n",
    "            boilerplate.extend((c, head) for c in reversed(dag.get(head, [])))\n",
    "        if head == node_to:\n",
    "            path = {head}\n",
    "            while head := visited.get(head):\n",
    "                path.add(head)\n",
    "\n",
    "            def map_thickness(index, edge):\n",
    "                if edge[\"start\"] in path and edge[\"end\"] in path:\n",
    "                    return 4.0\n",
    "                return 1.0\n",
    "\n",
    "            def map_color(index, edge):\n",
    "                if edge[\"start\"] in path and edge[\"end\"] in path:\n",
    "                    return color\n",
    "                return None\n",
    "\n",
    "            edge_thickness_mappers.append(map_thickness)\n",
    "            edge_color_mappers.append(map_color)\n",
    "            print(node_from, f\" -> ... {len(path) - 1} edges ... -> \", node_to)"
   ]
  },
  {
   "cell_type": "code",
   "execution_count": 166,
   "id": "40c8cbc9",
   "metadata": {},
   "outputs": [
    {
     "name": "stdout",
     "output_type": "stream",
     "text": [
      "821e1dcef8e0ce5241de419b66c0d768c33dea4d  -> ... 173 edges ... ->  dc4e9cccc7cf4415be80505d33329b889349a96e\n"
     ]
    }
   ],
   "source": [
    "node_color_mappers.clear()\n",
    "edge_color_mappers.clear()\n",
    "edge_thickness_mappers.clear()\n",
    "highlight_deployment(\"???\", \"blue\")\n",
    "highlight_deployment(\"???\", \"red\")\n",
    "highlight_path(\"dc4e9cccc7cf4415be80505d33329b889349a96e\", \"821e1dcef8e0ce5241de419b66c0d768c33dea4d\", \"darkblue\")"
   ]
  },
  {
   "cell_type": "code",
   "execution_count": 164,
   "id": "7ef61934",
   "metadata": {},
   "outputs": [
    {
     "data": {
      "application/vnd.jupyter.widget-view+json": {
       "model_id": "77231dfde6e542a0883b4dd94ea4f15a",
       "version_major": 2,
       "version_minor": 0
      },
      "text/plain": [
       "GraphWidget(layout=Layout(height='500px', width='100%'))"
      ]
     },
     "metadata": {},
     "output_type": "display_data"
    }
   ],
   "source": [
    "w"
   ]
  }
 ],
 "metadata": {
  "kernelspec": {
   "display_name": "Python 3 (ipykernel)",
   "language": "python",
   "name": "python3"
  },
  "language_info": {
   "codemirror_mode": {
    "name": "ipython",
    "version": 3
   },
   "file_extension": ".py",
   "mimetype": "text/x-python",
   "name": "python",
   "nbconvert_exporter": "python",
   "pygments_lexer": "ipython3",
   "version": "3.10.4"
  }
 },
 "nbformat": 4,
 "nbformat_minor": 5
}
